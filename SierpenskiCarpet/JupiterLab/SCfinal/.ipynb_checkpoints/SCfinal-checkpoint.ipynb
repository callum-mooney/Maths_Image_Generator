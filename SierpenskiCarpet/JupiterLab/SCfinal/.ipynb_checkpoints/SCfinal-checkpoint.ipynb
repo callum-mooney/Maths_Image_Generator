{
 "cells": [
  {
   "cell_type": "markdown",
   "id": "5d591200-9fc1-494e-94b4-f6ed57b29b31",
   "metadata": {
    "extensions": {
     "jupyter_dashboards": {
      "activeView": "grid_default",
      "views": {
       "grid_default": {
        "col": null,
        "height": 2,
        "hidden": true,
        "row": null,
        "width": 2
       }
      }
     }
    },
    "tags": []
   },
   "source": [
    "Sierpinski Carpet"
   ]
  },
  {
   "cell_type": "markdown",
   "id": "9af5c4ea-5458-491f-b27a-a370e68d3a77",
   "metadata": {
    "extensions": {
     "jupyter_dashboards": {
      "activeView": "grid_default",
      "views": {
       "grid_default": {
        "col": null,
        "height": 2,
        "hidden": true,
        "row": null,
        "width": 2
       }
      }
     }
    }
   },
   "source": [
    "Background"
   ]
  },
  {
   "cell_type": "markdown",
   "id": "1a7cb4b8-4974-4062-9cb2-e3f0c833a66e",
   "metadata": {
    "extensions": {
     "jupyter_dashboards": {
      "activeView": "grid_default",
      "views": {
       "grid_default": {
        "col": null,
        "height": 2,
        "hidden": true,
        "row": null,
        "width": 2
       }
      }
     }
    }
   },
   "source": [
    "The Sierpiński carpet is a plane fractal first introduced by Wacław Sierpiński in 1916. It starts with a square that is divided into 9 equal subsquares in a 3x3 grid. The central subsquare is removed, and this process is repeated recursively with the remaining 8 subsquares, creating a plane fractal that can continue infinitely!"
   ]
  },
  {
   "cell_type": "markdown",
   "id": "baa0bf65-f2f5-4f39-9fbd-67c87f644f78",
   "metadata": {
    "extensions": {
     "jupyter_dashboards": {
      "activeView": "grid_default",
      "views": {
       "grid_default": {
        "col": null,
        "height": 2,
        "hidden": true,
        "row": null,
        "width": 2
       }
      }
     }
    }
   },
   "source": [
    "Software"
   ]
  },
  {
   "cell_type": "markdown",
   "id": "0af6c6e6-8d84-4c99-90d1-a12debb6e5c6",
   "metadata": {
    "extensions": {
     "jupyter_dashboards": {
      "activeView": "grid_default",
      "views": {
       "grid_default": {
        "col": null,
        "height": 2,
        "hidden": true,
        "row": null,
        "width": 2
       }
      }
     }
    }
   },
   "source": [
    "The maplotlib library is used to create the sierpinski carpet. As the depth of the sierpinski curtain increase the code executes at a slower pace as more calculations are done."
   ]
  },
  {
   "cell_type": "code",
   "execution_count": 10,
   "id": "9488b6ff-abd0-4a72-90c7-b41245b15dad",
   "metadata": {
    "extensions": {
     "jupyter_dashboards": {
      "activeView": "grid_default",
      "views": {
       "grid_default": {
        "col": null,
        "height": 2,
        "hidden": true,
        "row": null,
        "width": 2
       }
      }
     }
    }
   },
   "outputs": [],
   "source": [
    "import matplotlib.pyplot as plt\n",
    "from matplotlib.patches import Rectangle"
   ]
  },
  {
   "cell_type": "code",
   "execution_count": 11,
   "id": "f844f1a3-cfec-481d-8d37-e6533e56d157",
   "metadata": {
    "extensions": {
     "jupyter_dashboards": {
      "activeView": "grid_default",
      "views": {
       "grid_default": {
        "col": null,
        "height": 2,
        "hidden": true,
        "row": null,
        "width": 2
       }
      }
     }
    }
   },
   "outputs": [],
   "source": [
    "# Initialize global variables\n",
    "dim = 513\n",
    "limit = dim\n",
    "depth = 4"
   ]
  },
  {
   "cell_type": "code",
   "execution_count": 12,
   "id": "5238cd12-31cd-4e6d-b9e8-2f366b4c6130",
   "metadata": {
    "extensions": {
     "jupyter_dashboards": {
      "activeView": "grid_default",
      "views": {
       "grid_default": {
        "col": null,
        "height": 2,
        "hidden": true,
        "row": null,
        "width": 2
       }
      }
     }
    }
   },
   "outputs": [],
   "source": [
    "# Create the Sierpinski Carpet function\n",
    "def sierpinskiCarpet(x, y, size):\n",
    "    global limit  # Reference the global variable\n",
    "    \n",
    "    if size < limit:  # Base case to exit recursion\n",
    "        return\n",
    "    \n",
    "    size /= 3  # Reduce size for recursion\n",
    "    \n",
    "    # Loop to create the carpet pattern\n",
    "    for i in range(9):\n",
    "        if i == 4:  # Draw the central black square\n",
    "            x_center = x + size\n",
    "            y_center = y - size  # Matplotlib uses negative y for downward direction\n",
    "\n",
    "            # Create a filled square\n",
    "            plt.gca().add_patch(\n",
    "                Rectangle(\n",
    "                    (x_center, y_center),  # Bottom-left corner\n",
    "                    size,  # Width\n",
    "                    -size,  # Height (negative for downward direction)\n",
    "                    facecolor='black'  # Black fill\n",
    "                )\n",
    "            )\n",
    "        else:\n",
    "            # Calculate new x and y positions for recursion\n",
    "            x_new = x + (i % 3) * size\n",
    "            y_new = y - (i // 3) * size\n",
    "\n",
    "            # Recursive call with updated coordinates\n",
    "            sierpinskiCarpet(x_new, y_new, size)"
   ]
  },
  {
   "cell_type": "code",
   "execution_count": 13,
   "id": "c6b625a2-af2e-4da6-8ce8-f8d566dbe5d2",
   "metadata": {
    "extensions": {
     "jupyter_dashboards": {
      "activeView": "grid_default",
      "views": {
       "grid_default": {
        "col": null,
        "height": 2,
        "hidden": true,
        "row": null,
        "width": 2
       }
      }
     }
    }
   },
   "outputs": [],
   "source": [
    "# Function to set up and draw the Sierpinski Carpet\n",
    "def draw_carpet():\n",
    "    global limit  # Reference the global variable\n",
    "\n",
    "    plt.figure(figsize=(6, 6), facecolor='white')  # Set background color to white\n",
    "\n",
    "    # Draw the Sierpinski Carpet with the specified depth\n",
    "    for _ in range(depth):\n",
    "        sierpinskiCarpet(0, dim, dim)\n",
    "        limit /= 3  # Adjust the limit for recursion\n",
    "    \n",
    "    plt.axis('equal')  # Keep the aspect ratio equal\n",
    "    plt.axis('off')  # Hide axes\n",
    "    plt.show()  # Display the plot"
   ]
  },
  {
   "cell_type": "code",
   "execution_count": 14,
   "id": "e64f4bf3-cb9a-4836-9456-6593ae65506f",
   "metadata": {
    "extensions": {
     "jupyter_dashboards": {
      "activeView": "grid_default",
      "views": {
       "grid_default": {
        "col": null,
        "height": 2,
        "hidden": true,
        "row": null,
        "width": 2
       }
      }
     }
    }
   },
   "outputs": [
    {
     "data": {
      "image/png": "[encoded data removed]",
      "text/plain": [
       "<Figure size 432x432 with 1 Axes>"
      ]
     },
     "metadata": {},
     "output_type": "display_data"
    }
   ],
   "source": [
    "# Run the draw function to plot the Sierpinski Carpet\n",
    "draw_carpet()"
   ]
  },
  {
   "cell_type": "markdown",
   "id": "5c1e7a4e-af8c-4316-8bb1-9ca675652405",
   "metadata": {
    "extensions": {
     "jupyter_dashboards": {
      "activeView": "grid_default",
      "views": {
       "grid_default": {
        "col": null,
        "height": 2,
        "hidden": true,
        "row": null,
        "width": 2
       }
      }
     }
    }
   },
   "source": [
    "Hardware"
   ]
  },
  {
   "cell_type": "markdown",
   "id": "2b4bf499-9d39-448c-805e-b366d12f2927",
   "metadata": {
    "extensions": {
     "jupyter_dashboards": {
      "activeView": "grid_default",
      "views": {
       "grid_default": {
        "col": null,
        "height": 2,
        "hidden": true,
        "row": null,
        "width": 2
       }
      }
     }
    }
   },
   "source": [
    "An attempt has been made at implementing some hardware elements along with the software elements."
   ]
  },
  {
   "cell_type": "code",
   "execution_count": null,
   "id": "6e51a188-dc8d-469b-a1b9-e7bfcb032778",
   "metadata": {
    "extensions": {
     "jupyter_dashboards": {
      "activeView": "grid_default",
      "views": {
       "grid_default": {
        "col": null,
        "height": 2,
        "hidden": true,
        "row": null,
        "width": 2
       }
      }
     }
    }
   },
   "outputs": [],
   "source": [
    "import matplotlib.pyplot as plt\n",
    "from pynq import Overlay\n",
    "ol = Overlay(\"SCfinal_wrapper.bit\")\n",
    "import numpy\n",
    "from ipywidgets import *"
   ]
  },
  {
   "cell_type": "code",
   "execution_count": 3,
   "id": "0167beba-b5c7-4016-b1a1-8c33b5a2efb5",
   "metadata": {
    "extensions": {
     "jupyter_dashboards": {
      "activeView": "grid_default",
      "views": {
       "grid_default": {
        "col": null,
        "height": 2,
        "hidden": true,
        "row": null,
        "width": 2
       }
      }
     }
    }
   },
   "outputs": [],
   "source": [
    "sc = ol.scfinal_0"
   ]
  },
  {
   "cell_type": "code",
   "execution_count": 4,
   "id": "821a5330-9c07-4d08-87a9-758265e9c6a1",
   "metadata": {
    "extensions": {
     "jupyter_dashboards": {
      "activeView": "grid_default",
      "views": {
       "grid_default": {
        "col": null,
        "height": 2,
        "hidden": true,
        "row": null,
        "width": 2
       }
      }
     }
    }
   },
   "outputs": [],
   "source": [
    "import matplotlib.pyplot as plt\n",
    "from matplotlib.patches import Rectangle"
   ]
  },
  {
   "cell_type": "code",
   "execution_count": 5,
   "id": "10fab59f-9b08-4972-a429-881858681834",
   "metadata": {
    "extensions": {
     "jupyter_dashboards": {
      "activeView": "grid_default",
      "views": {
       "grid_default": {
        "col": null,
        "height": 2,
        "hidden": true,
        "row": null,
        "width": 2
       }
      }
     }
    }
   },
   "outputs": [],
   "source": [
    "# Initialize global variables\n",
    "dim = 513\n",
    "limit = dim\n",
    "depth = 4"
   ]
  },
  {
   "cell_type": "code",
   "execution_count": 6,
   "id": "433bf140-b6f6-48f7-a846-364995616b20",
   "metadata": {
    "extensions": {
     "jupyter_dashboards": {
      "activeView": "grid_default",
      "views": {
       "grid_default": {
        "col": null,
        "height": 2,
        "hidden": true,
        "row": null,
        "width": 2
       }
      }
     }
    }
   },
   "outputs": [],
   "source": [
    "from pynq import MMIO\n",
    "\n",
    "# Initialize MMIO\n",
    "base_address = 0x40000000  # Example base address\n",
    "mmio = MMIO(base_address, 128)  # Memory size of 128 bytes\n",
    "\n",
    "# Define scale factor for fixed-point representation (2 decimal points)\n",
    "scale_factor = 100  # 100 for 2 decimal points"
   ]
  },
  {
   "cell_type": "code",
   "execution_count": 7,
   "id": "772291f2-6ab5-4782-8a99-f1989970987e",
   "metadata": {
    "extensions": {
     "jupyter_dashboards": {
      "activeView": "grid_default",
      "views": {
       "grid_default": {
        "col": null,
        "height": 2,
        "hidden": true,
        "row": null,
        "width": 2
       }
      }
     }
    }
   },
   "outputs": [],
   "source": [
    "# Fixed-point conversion function\n",
    "def convert_to_fixed_point(value):\n",
    "    # Convert a decimal value to a fixed-point integer\n",
    "    return int(value * scale_factor)"
   ]
  },
  {
   "cell_type": "code",
   "execution_count": 8,
   "id": "dc5579c1-268e-4128-8aff-a6fbf4d50019",
   "metadata": {
    "extensions": {
     "jupyter_dashboards": {
      "activeView": "grid_default",
      "views": {
       "grid_default": {
        "col": null,
        "height": 2,
        "hidden": true,
        "row": null,
        "width": 2
       }
      }
     }
    }
   },
   "outputs": [],
   "source": [
    "# Create the Sierpinski Carpet function\n",
    "def sierpinskiCarpet(x, y, size):\n",
    "    global limit  # Reference the global variable\n",
    "    \n",
    "    if size < limit:  # Base case to exit recursion\n",
    "        return\n",
    "    \n",
    "    size = size /3  # Reduce size for recursion\n",
    "    size_convert = convert_to_fixed_point(size)\n",
    "    \n",
    "    # Loop to create the carpet pattern\n",
    "    for i in range(9):\n",
    "        \n",
    "        sc.write(0x00,y)\n",
    "        sc.write(0x08,x)\n",
    "        sc.write(0x04,size_mul)\n",
    "        sc.write(0x0C,i)\n",
    "        \n",
    "        x_new = sc.read(0x10)\n",
    "        y_new = sc.read(0x14)\n",
    "        \n",
    "        if i == 4:  # Draw the central black square\n",
    "            #x_center = x + size\n",
    "           #y_center = y - size  # Matplotlib uses negative y for downward direction\n",
    "\n",
    "            # Create a filled square\n",
    "            plt.gca().add_patch(\n",
    "                Rectangle(\n",
    "                    (x_new, y_new),  # Bottom-left corner\n",
    "                    size,  # Width\n",
    "                    -size,  # Height (negative for downward direction)\n",
    "                    facecolor='black'  # Black fill\n",
    "                )\n",
    "            )\n",
    "        else:\n",
    "            # Calculate new x and y positions for recursion\n",
    "           # x_new = x + (i % 3) * size\n",
    "           # y_new = y - (i // 3) * size\n",
    "\n",
    "            # Recursive call with updated coordinates\n",
    "            sierpinskiCarpet(x_new, y_new, size)"
   ]
  },
  {
   "cell_type": "code",
   "execution_count": 9,
   "id": "cdab5ac3-f470-493e-975e-5152794c6eb1",
   "metadata": {
    "extensions": {
     "jupyter_dashboards": {
      "activeView": "grid_default",
      "views": {
       "grid_default": {
        "col": null,
        "height": 2,
        "hidden": true,
        "row": null,
        "width": 2
       }
      }
     }
    }
   },
   "outputs": [],
   "source": [
    "# Function to set up and draw the Sierpinski Carpet\n",
    "def draw_carpet():\n",
    "    global limit  # Reference the global variable\n",
    "\n",
    "    plt.figure(figsize=(6, 6), facecolor='white')  # Set background color to white\n",
    "\n",
    "    # Draw the Sierpinski Carpet with the specified depth\n",
    "    for _ in range(depth):\n",
    "        sierpinskiCarpet(0, dim, dim)\n",
    "        limit /= 3  # Adjust the limit for recursion\n",
    "    \n",
    "    plt.axis('equal')  # Keep the aspect ratio equal\n",
    "    plt.axis('off')  # Hide axes\n",
    "    plt.show()  # Display the plo"
   ]
  },
  {
   "cell_type": "code",
   "execution_count": 10,
   "id": "fb434eec-d028-4e96-b7bd-01af5043e21a",
   "metadata": {
    "extensions": {
     "jupyter_dashboards": {
      "activeView": "grid_default",
      "views": {
       "grid_default": {
        "col": null,
        "height": 2,
        "hidden": true,
        "row": null,
        "width": 2
       }
      }
     }
    }
   },
   "outputs": [
    {
     "ename": "ValueError",
     "evalue": "Data type must be int or bytes.",
     "output_type": "error",
     "traceback": [
      "\u001b[0;31m---------------------------------------------------------------------------\u001b[0m",
      "\u001b[0;31mValueError\u001b[0m                                Traceback (most recent call last)",
      "\u001b[0;32m<ipython-input-9-999cfeb148e6>\u001b[0m in \u001b[0;36m<module>\u001b[0;34m\u001b[0m\n\u001b[1;32m      1\u001b[0m \u001b[0;31m# Run the draw function to plot the Sierpinski Carpet\u001b[0m\u001b[0;34m\u001b[0m\u001b[0;34m\u001b[0m\u001b[0;34m\u001b[0m\u001b[0m\n\u001b[0;32m----> 2\u001b[0;31m \u001b[0mdraw_carpet\u001b[0m\u001b[0;34m(\u001b[0m\u001b[0;34m)\u001b[0m\u001b[0;34m\u001b[0m\u001b[0;34m\u001b[0m\u001b[0m\n\u001b[0m",
      "\u001b[0;32m<ipython-input-8-25b39b0e73db>\u001b[0m in \u001b[0;36mdraw_carpet\u001b[0;34m()\u001b[0m\n\u001b[1;32m      7\u001b[0m     \u001b[0;31m# Draw the Sierpinski Carpet with the specified depth\u001b[0m\u001b[0;34m\u001b[0m\u001b[0;34m\u001b[0m\u001b[0;34m\u001b[0m\u001b[0m\n\u001b[1;32m      8\u001b[0m     \u001b[0;32mfor\u001b[0m \u001b[0m_\u001b[0m \u001b[0;32min\u001b[0m \u001b[0mrange\u001b[0m\u001b[0;34m(\u001b[0m\u001b[0mdepth\u001b[0m\u001b[0;34m)\u001b[0m\u001b[0;34m:\u001b[0m\u001b[0;34m\u001b[0m\u001b[0;34m\u001b[0m\u001b[0m\n\u001b[0;32m----> 9\u001b[0;31m         \u001b[0msierpinskiCarpet\u001b[0m\u001b[0;34m(\u001b[0m\u001b[0;36m0\u001b[0m\u001b[0;34m,\u001b[0m \u001b[0mdim\u001b[0m\u001b[0;34m,\u001b[0m \u001b[0mdim\u001b[0m\u001b[0;34m)\u001b[0m\u001b[0;34m\u001b[0m\u001b[0;34m\u001b[0m\u001b[0m\n\u001b[0m\u001b[1;32m     10\u001b[0m         \u001b[0mlimit\u001b[0m \u001b[0;34m/=\u001b[0m \u001b[0;36m3\u001b[0m  \u001b[0;31m# Adjust the limit for recursion\u001b[0m\u001b[0;34m\u001b[0m\u001b[0;34m\u001b[0m\u001b[0m\n\u001b[1;32m     11\u001b[0m \u001b[0;34m\u001b[0m\u001b[0m\n",
      "\u001b[0;32m<ipython-input-7-dccb8f23f535>\u001b[0m in \u001b[0;36msierpinskiCarpet\u001b[0;34m(x, y, size)\u001b[0m\n\u001b[1;32m     14\u001b[0m         \u001b[0msc\u001b[0m\u001b[0;34m.\u001b[0m\u001b[0mwrite\u001b[0m\u001b[0;34m(\u001b[0m\u001b[0;36m0x00\u001b[0m\u001b[0;34m,\u001b[0m\u001b[0my\u001b[0m\u001b[0;34m)\u001b[0m\u001b[0;34m\u001b[0m\u001b[0;34m\u001b[0m\u001b[0m\n\u001b[1;32m     15\u001b[0m         \u001b[0msc\u001b[0m\u001b[0;34m.\u001b[0m\u001b[0mwrite\u001b[0m\u001b[0;34m(\u001b[0m\u001b[0;36m0x08\u001b[0m\u001b[0;34m,\u001b[0m\u001b[0mx\u001b[0m\u001b[0;34m)\u001b[0m\u001b[0;34m\u001b[0m\u001b[0;34m\u001b[0m\u001b[0m\n\u001b[0;32m---> 16\u001b[0;31m         \u001b[0msc\u001b[0m\u001b[0;34m.\u001b[0m\u001b[0mwrite\u001b[0m\u001b[0;34m(\u001b[0m\u001b[0;36m0x04\u001b[0m\u001b[0;34m,\u001b[0m\u001b[0msize_mul\u001b[0m\u001b[0;34m)\u001b[0m\u001b[0;34m\u001b[0m\u001b[0;34m\u001b[0m\u001b[0m\n\u001b[0m\u001b[1;32m     17\u001b[0m         \u001b[0msc\u001b[0m\u001b[0;34m.\u001b[0m\u001b[0mwrite\u001b[0m\u001b[0;34m(\u001b[0m\u001b[0;36m0x0C\u001b[0m\u001b[0;34m,\u001b[0m\u001b[0mi\u001b[0m\u001b[0;34m)\u001b[0m\u001b[0;34m\u001b[0m\u001b[0;34m\u001b[0m\u001b[0m\n\u001b[1;32m     18\u001b[0m \u001b[0;34m\u001b[0m\u001b[0m\n",
      "\u001b[0;32m/usr/local/share/pynq-venv/lib/python3.8/site-packages/pynq/overlay.py\u001b[0m in \u001b[0;36mwrite\u001b[0;34m(self, offset, value)\u001b[0m\n\u001b[1;32m    851\u001b[0m \u001b[0;34m\u001b[0m\u001b[0m\n\u001b[1;32m    852\u001b[0m         \"\"\"\n\u001b[0;32m--> 853\u001b[0;31m         \u001b[0mself\u001b[0m\u001b[0;34m.\u001b[0m\u001b[0mmmio\u001b[0m\u001b[0;34m.\u001b[0m\u001b[0mwrite\u001b[0m\u001b[0;34m(\u001b[0m\u001b[0moffset\u001b[0m\u001b[0;34m,\u001b[0m \u001b[0mvalue\u001b[0m\u001b[0;34m)\u001b[0m\u001b[0;34m\u001b[0m\u001b[0;34m\u001b[0m\u001b[0m\n\u001b[0m\u001b[1;32m    854\u001b[0m \u001b[0;34m\u001b[0m\u001b[0m\n\u001b[1;32m    855\u001b[0m \u001b[0;34m\u001b[0m\u001b[0m\n",
      "\u001b[0;32m/usr/local/share/pynq-venv/lib/python3.8/site-packages/pynq/mmio.py\u001b[0m in \u001b[0;36mwrite_mm\u001b[0;34m(self, offset, data)\u001b[0m\n\u001b[1;32m    189\u001b[0m                 \u001b[0mself\u001b[0m\u001b[0;34m.\u001b[0m\u001b[0marray\u001b[0m\u001b[0;34m[\u001b[0m\u001b[0midx\u001b[0m \u001b[0;34m+\u001b[0m \u001b[0mi\u001b[0m\u001b[0;34m]\u001b[0m \u001b[0;34m=\u001b[0m \u001b[0mbuf\u001b[0m\u001b[0;34m[\u001b[0m\u001b[0mi\u001b[0m\u001b[0;34m]\u001b[0m\u001b[0;34m\u001b[0m\u001b[0;34m\u001b[0m\u001b[0m\n\u001b[1;32m    190\u001b[0m         \u001b[0;32melse\u001b[0m\u001b[0;34m:\u001b[0m\u001b[0;34m\u001b[0m\u001b[0;34m\u001b[0m\u001b[0m\n\u001b[0;32m--> 191\u001b[0;31m             \u001b[0;32mraise\u001b[0m \u001b[0mValueError\u001b[0m\u001b[0;34m(\u001b[0m\u001b[0;34m\"Data type must be int or bytes.\"\u001b[0m\u001b[0;34m)\u001b[0m\u001b[0;34m\u001b[0m\u001b[0;34m\u001b[0m\u001b[0m\n\u001b[0m\u001b[1;32m    192\u001b[0m \u001b[0;34m\u001b[0m\u001b[0m\n\u001b[1;32m    193\u001b[0m     \u001b[0;32mdef\u001b[0m \u001b[0mwrite_reg\u001b[0m\u001b[0;34m(\u001b[0m\u001b[0mself\u001b[0m\u001b[0;34m,\u001b[0m \u001b[0moffset\u001b[0m\u001b[0;34m,\u001b[0m \u001b[0mdata\u001b[0m\u001b[0;34m)\u001b[0m\u001b[0;34m:\u001b[0m\u001b[0;34m\u001b[0m\u001b[0;34m\u001b[0m\u001b[0m\n",
      "\u001b[0;31mValueError\u001b[0m: Data type must be int or bytes."
     ]
    },
    {
     "data": {
      "text/plain": [
       "<Figure size 432x432 with 0 Axes>"
      ]
     },
     "metadata": {},
     "output_type": "display_data"
    }
   ],
   "source": [
    "# Run the draw function to plot the Sierpinski Carpet\n",
    "draw_carpet()"
   ]
  }
 ],
 "metadata": {
  "extensions": {
   "jupyter_dashboards": {
    "activeView": "grid_default",
    "version": 1,
    "views": {
     "grid_default": {
      "cellMargin": 2,
      "defaultCellHeight": 60,
      "maxColumns": 12,
      "name": "grid",
      "type": "grid"
     }
    }
   }
  },
  "kernelspec": {
   "display_name": "Python 3",
   "language": "python",
   "name": "python3"
  },
  "language_info": {
   "codemirror_mode": {
    "name": "ipython",
    "version": 3
   },
   "file_extension": ".py",
   "mimetype": "text/x-python",
   "name": "python",
   "nbconvert_exporter": "python",
   "pygments_lexer": "ipython3",
   "version": "3.8.2"
  }
 },
 "nbformat": 4,
 "nbformat_minor": 5
}
