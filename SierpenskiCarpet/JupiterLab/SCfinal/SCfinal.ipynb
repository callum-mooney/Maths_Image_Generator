{
 "cells": [
  {
   "cell_type": "markdown",
   "id": "5d591200-9fc1-494e-94b4-f6ed57b29b31",
   "metadata": {
    "extensions": {
     "jupyter_dashboards": {
      "activeView": "grid_default",
      "views": {
       "grid_default": {
        "col": null,
        "height": 2,
        "hidden": true,
        "row": null,
        "width": 2
       }
      }
     }
    },
    "tags": []
   },
   "source": [
    "# Sierpinski Carpet"
   ]
  },
  {
   "cell_type": "markdown",
   "id": "9af5c4ea-5458-491f-b27a-a370e68d3a77",
   "metadata": {
    "extensions": {
     "jupyter_dashboards": {
      "activeView": "grid_default",
      "views": {
       "grid_default": {
        "col": null,
        "height": 2,
        "hidden": true,
        "row": null,
        "width": 2
       }
      }
     }
    }
   },
   "source": [
    "Background"
   ]
  },
  {
   "cell_type": "markdown",
   "id": "1a7cb4b8-4974-4062-9cb2-e3f0c833a66e",
   "metadata": {
    "extensions": {
     "jupyter_dashboards": {
      "activeView": "grid_default",
      "views": {
       "grid_default": {
        "col": null,
        "height": 2,
        "hidden": true,
        "row": null,
        "width": 2
       }
      }
     }
    }
   },
   "source": [
    "The Sierpinski carpet is a plane fractal first introduced by Waclaw Sierpiński in 1916. It starts with a square that is divided into 9 equal subsquares in a 3x3 grid. The central subsquare is removed, and this process is repeated recursively with the remaining 8 subsquares, creating a plane fractal that can continue infinitely!"
   ]
  },
  {
   "cell_type": "markdown",
   "id": "baa0bf65-f2f5-4f39-9fbd-67c87f644f78",
   "metadata": {
    "extensions": {
     "jupyter_dashboards": {
      "activeView": "grid_default",
      "views": {
       "grid_default": {
        "col": null,
        "height": 2,
        "hidden": true,
        "row": null,
        "width": 2
       }
      }
     }
    }
   },
   "source": [
    "# Software"
   ]
  },
  {
   "cell_type": "markdown",
   "id": "0af6c6e6-8d84-4c99-90d1-a12debb6e5c6",
   "metadata": {
    "extensions": {
     "jupyter_dashboards": {
      "activeView": "grid_default",
      "views": {
       "grid_default": {
        "col": null,
        "height": 2,
        "hidden": true,
        "row": null,
        "width": 2
       }
      }
     }
    }
   },
   "source": [
    "The maplotlib library is used to create the sierpinski carpet. As the depth of the sierpinski curtain increase the code executes at a slower pace as more calculations are done."
   ]
  },
  {
   "cell_type": "code",
   "execution_count": 1,
   "id": "9488b6ff-abd0-4a72-90c7-b41245b15dad",
   "metadata": {
    "extensions": {
     "jupyter_dashboards": {
      "activeView": "grid_default",
      "views": {
       "grid_default": {
        "col": null,
        "height": 2,
        "hidden": true,
        "row": null,
        "width": 2
       }
      }
     }
    }
   },
   "outputs": [],
   "source": [
    "import matplotlib.pyplot as plt\n",
    "from matplotlib.patches import Rectangle"
   ]
  },
  {
   "cell_type": "markdown",
   "id": "cd6a23d4-2529-44e3-ad09-fac0fb0abbf7",
   "metadata": {},
   "source": [
    "The inital value of the dimensions, limit and depth are set."
   ]
  },
  {
   "cell_type": "markdown",
   "id": "1cd14fe8-5ab8-4edc-83fd-6896eec7227e",
   "metadata": {},
   "source": [
    "Adjust the value of <b>depth</b> to increase or decrease the complexity of the sierpinski carpet"
   ]
  },
  {
   "cell_type": "code",
   "execution_count": 2,
   "id": "f844f1a3-cfec-481d-8d37-e6533e56d157",
   "metadata": {
    "extensions": {
     "jupyter_dashboards": {
      "activeView": "grid_default",
      "views": {
       "grid_default": {
        "col": null,
        "height": 2,
        "hidden": true,
        "row": null,
        "width": 2
       }
      }
     }
    }
   },
   "outputs": [],
   "source": [
    "# Initialize global variables\n",
    "dim = 513\n",
    "limit = dim\n",
    "depth = 4"
   ]
  },
  {
   "cell_type": "markdown",
   "id": "cc28982b-0f74-4a28-b167-5bc8259707d7",
   "metadata": {},
   "source": [
    "This function calculates the the values for x and y to calculate the size and location of each square "
   ]
  },
  {
   "cell_type": "code",
   "execution_count": 3,
   "id": "5238cd12-31cd-4e6d-b9e8-2f366b4c6130",
   "metadata": {
    "extensions": {
     "jupyter_dashboards": {
      "activeView": "grid_default",
      "views": {
       "grid_default": {
        "col": null,
        "height": 2,
        "hidden": true,
        "row": null,
        "width": 2
       }
      }
     }
    }
   },
   "outputs": [],
   "source": [
    "# Create the Sierpinski Carpet function\n",
    "def sierpinskiCarpet(x, y, size):\n",
    "    global limit  # Reference the global variable\n",
    "    \n",
    "    if size < limit:  # Base case to exit recursion\n",
    "        return\n",
    "    \n",
    "    size /= 3 \n",
    "    \n",
    "    # Loop to create the carpet pattern\n",
    "    for i in range(9):\n",
    "        if i == 4:  # Draw the central black square\n",
    "            x_center = x + size\n",
    "            y_center = y - size  # Matplotlib uses negative y for downward direction\n",
    "\n",
    "            # Create a filled square\n",
    "            plt.gca().add_patch(\n",
    "                Rectangle(\n",
    "                    (x_center, y_center),  # Bottom-left corner\n",
    "                    size,  \n",
    "                    -size,  \n",
    "                    facecolor='black'  \n",
    "                )\n",
    "            )\n",
    "        else:\n",
    "            # Calculate new x and y positions for recursion\n",
    "            x_new = x + (i % 3) * size\n",
    "            y_new = y - (i // 3) * size\n",
    "\n",
    "            # Recursive call with updated coordinates\n",
    "            sierpinskiCarpet(x_new, y_new, size)"
   ]
  },
  {
   "cell_type": "markdown",
   "id": "5ff68f90-fdf8-464c-a728-0921017b93e1",
   "metadata": {},
   "source": [
    "This function sets up the figure and calls on the function to plot the Sierpinski carpet with the specified depth"
   ]
  },
  {
   "cell_type": "code",
   "execution_count": 4,
   "id": "c6b625a2-af2e-4da6-8ce8-f8d566dbe5d2",
   "metadata": {
    "extensions": {
     "jupyter_dashboards": {
      "activeView": "grid_default",
      "views": {
       "grid_default": {
        "col": null,
        "height": 2,
        "hidden": true,
        "row": null,
        "width": 2
       }
      }
     }
    }
   },
   "outputs": [],
   "source": [
    "\n",
    "def draw_carpet():\n",
    "    global limit  \n",
    "\n",
    "    plt.figure(figsize=(6, 6), facecolor='white') \n",
    "\n",
    "    for _ in range(depth):\n",
    "        sierpinskiCarpet(0, dim, dim)\n",
    "        limit /= 3 \n",
    "    \n",
    "    plt.axis('equal')\n",
    "    plt.axis('off')  \n",
    "    plt.show()  "
   ]
  },
  {
   "cell_type": "markdown",
   "id": "41a07b2e-db7a-498e-a2e0-2f2e0799be01",
   "metadata": {},
   "source": [
    "this line calls the function to draw the Sierpenski carpet"
   ]
  },
  {
   "cell_type": "code",
   "execution_count": 5,
   "id": "e64f4bf3-cb9a-4836-9456-6593ae65506f",
   "metadata": {
    "extensions": {
     "jupyter_dashboards": {
      "activeView": "grid_default",
      "views": {
       "grid_default": {
        "col": null,
        "height": 2,
        "hidden": true,
        "row": null,
        "width": 2
       }
      }
     }
    }
   },
   "outputs": [
    {
     "data": {
      "image/png": "[encoded data removed]",
      "text/plain": [
       "<Figure size 432x432 with 1 Axes>"
      ]
     },
     "metadata": {},
     "output_type": "display_data"
    }
   ],
   "source": [
    "draw_carpet()"
   ]
  },
  {
   "cell_type": "markdown",
   "id": "cc477de3-35e1-437e-8c33-2e7c6f568962",
   "metadata": {},
   "source": [
    "The final Sierpenski carpet is plotted above. This shows an example of what the hardware element should display."
   ]
  },
  {
   "cell_type": "markdown",
   "id": "5c1e7a4e-af8c-4316-8bb1-9ca675652405",
   "metadata": {
    "extensions": {
     "jupyter_dashboards": {
      "activeView": "grid_default",
      "views": {
       "grid_default": {
        "col": null,
        "height": 2,
        "hidden": true,
        "row": null,
        "width": 2
       }
      }
     }
    }
   },
   "source": [
    "# Hardware "
   ]
  },
  {
   "cell_type": "markdown",
   "id": "2b4bf499-9d39-448c-805e-b366d12f2927",
   "metadata": {
    "extensions": {
     "jupyter_dashboards": {
      "activeView": "grid_default",
      "views": {
       "grid_default": {
        "col": null,
        "height": 2,
        "hidden": true,
        "row": null,
        "width": 2
       }
      }
     }
    }
   },
   "source": [
    "An attempt has been made at implementing some hardware elements along with the software elements. The hardware and software need adjusting to compensate for the decimal numbers inputting and outputting from the hardware.   "
   ]
  },
  {
   "cell_type": "markdown",
   "id": "f01cc87b-d675-4916-96c1-2c2a63841fb0",
   "metadata": {},
   "source": [
    "<b>Sierpinski IP core</b>"
   ]
  },
  {
   "cell_type": "markdown",
   "id": "4a4628cd-607d-4779-bc58-8a18f75cc47d",
   "metadata": {},
   "source": [
    "The IP core calculates the values for x and y for both plotting and the next iteration of the sierpenski carpet function."
   ]
  },
  {
   "cell_type": "markdown",
   "id": "a74b0750-cee3-4025-8b76-42547c905aaa",
   "metadata": {},
   "source": [
    "![image.png](vivado.png)"
   ]
  },
  {
   "cell_type": "markdown",
   "id": "9e2835a2-aa88-48fd-b88d-8b1041d4d246",
   "metadata": {},
   "source": [
    "![image.png](hardware.png)"
   ]
  },
  {
   "cell_type": "code",
   "execution_count": 6,
   "id": "ebc52a37-626c-419d-8039-d9f2797ed198",
   "metadata": {},
   "outputs": [
    {
     "data": {
      "application/javascript": [
       "\n",
       "try {\n",
       "require(['notebook/js/codecell'], function(codecell) {\n",
       "  codecell.CodeCell.options_default.highlight_modes[\n",
       "      'magic_text/x-csrc'] = {'reg':[/^%%microblaze/]};\n",
       "  Jupyter.notebook.events.one('kernel_ready.Kernel', function(){\n",
       "      Jupyter.notebook.get_cells().map(function(cell){\n",
       "          if (cell.cell_type == 'code'){ cell.auto_highlight(); } }) ;\n",
       "  });\n",
       "});\n",
       "} catch (e) {};\n"
      ]
     },
     "metadata": {},
     "output_type": "display_data"
    },
    {
     "data": {
      "application/javascript": [
       "\n",
       "try {\n",
       "require(['notebook/js/codecell'], function(codecell) {\n",
       "  codecell.CodeCell.options_default.highlight_modes[\n",
       "      'magic_text/x-csrc'] = {'reg':[/^%%pybind11/]};\n",
       "  Jupyter.notebook.events.one('kernel_ready.Kernel', function(){\n",
       "      Jupyter.notebook.get_cells().map(function(cell){\n",
       "          if (cell.cell_type == 'code'){ cell.auto_highlight(); } }) ;\n",
       "  });\n",
       "});\n",
       "} catch (e) {};\n"
      ]
     },
     "metadata": {},
     "output_type": "display_data"
    }
   ],
   "source": [
    "from pynq import Overlay\n",
    "ol = Overlay(\"SCfinal_wrapper.bit\")\n",
    "import matplotlib.pyplot as plt\n",
    "import numpy\n",
    "from ipywidgets import *"
   ]
  },
  {
   "cell_type": "markdown",
   "id": "ab574b72-b2f2-4061-ba1a-89fcf5a226be",
   "metadata": {
    "tags": []
   },
   "source": [
    "The line below simplifies the IP cores with a alias as this make is easier to call later in ou"
   ]
  },
  {
   "cell_type": "code",
   "execution_count": 7,
   "id": "0167beba-b5c7-4016-b1a1-8c33b5a2efb5",
   "metadata": {
    "extensions": {
     "jupyter_dashboards": {
      "activeView": "grid_default",
      "views": {
       "grid_default": {
        "col": null,
        "height": 2,
        "hidden": true,
        "row": null,
        "width": 2
       }
      }
     }
    }
   },
   "outputs": [],
   "source": [
    "sc = ol.scfinal_0"
   ]
  },
  {
   "cell_type": "code",
   "execution_count": 8,
   "id": "821a5330-9c07-4d08-87a9-758265e9c6a1",
   "metadata": {
    "extensions": {
     "jupyter_dashboards": {
      "activeView": "grid_default",
      "views": {
       "grid_default": {
        "col": null,
        "height": 2,
        "hidden": true,
        "row": null,
        "width": 2
       }
      }
     }
    }
   },
   "outputs": [],
   "source": [
    "import matplotlib.pyplot as plt\n",
    "from matplotlib.patches import Rectangle"
   ]
  },
  {
   "cell_type": "code",
   "execution_count": 9,
   "id": "10fab59f-9b08-4972-a429-881858681834",
   "metadata": {
    "extensions": {
     "jupyter_dashboards": {
      "activeView": "grid_default",
      "views": {
       "grid_default": {
        "col": null,
        "height": 2,
        "hidden": true,
        "row": null,
        "width": 2
       }
      }
     }
    }
   },
   "outputs": [],
   "source": [
    "# Initialize global variables\n",
    "dim = 513\n",
    "limit = dim\n",
    "depth = 4"
   ]
  },
  {
   "cell_type": "markdown",
   "id": "d31907df-f17b-4361-8df1-9b1061d4bd2f",
   "metadata": {},
   "source": [
    "below is the overall hardware. In future versions the inputs should be divided by a factor of 100 and the outputs will be multiplied by a factor of 100. This is to compensate for the hardwares limitation. As decimal numbers cannot be input or output from the hardware it cannot communicate the true values to the python code. This has lead to problems with plotting the sierpinski carpet but with further development this issue should be dissolved."
   ]
  },
  {
   "cell_type": "markdown",
   "id": "305f65ba-e2bd-41ac-a34e-9e581b43d9ad",
   "metadata": {},
   "source": [
    "![image.png](system.png)"
   ]
  },
  {
   "cell_type": "markdown",
   "id": "9a6095c4-c115-49a4-a33c-acf2eabc66d4",
   "metadata": {},
   "source": [
    "Below is a similar function to the software but the calculations to find x and y have been moved to the hardware element of the design. As stated before in future versions the hardware will be adjusted, and this is also true for the following function. As the inputs size, y, and x will be multiplied by a factor of 100 to account for the decimal numbers. The outputs x_new and y_new will also need to be adjusted as they will output multipled by a factor of 100 they would need to be divided by a factor of 100 to properly create the Sierpinski carpet. "
   ]
  },
  {
   "cell_type": "code",
   "execution_count": 10,
   "id": "dc5579c1-268e-4128-8aff-a6fbf4d50019",
   "metadata": {
    "extensions": {
     "jupyter_dashboards": {
      "activeView": "grid_default",
      "views": {
       "grid_default": {
        "col": null,
        "height": 2,
        "hidden": true,
        "row": null,
        "width": 2
       }
      }
     }
    }
   },
   "outputs": [],
   "source": [
    "# Create the Sierpinski Carpet function\n",
    "def sierpinskiCarpet(x, y, size):\n",
    "    global limit  \n",
    "    \n",
    "    if size < limit: \n",
    "        return\n",
    "    \n",
    "    size = size /3  \n",
    "  \n",
    "    size_input = int(size)\n",
    "    \n",
    "    # Loop to create the carpet pattern\n",
    "    for i in range(9):\n",
    "        \n",
    "        sc.write(0x00,y)\n",
    "        sc.write(0x08,x)\n",
    "        sc.write(0x04,size_input)\n",
    "        sc.write(0x0C,i)\n",
    "        \n",
    "        x_new = sc.read(0x10)\n",
    "        y_new = sc.read(0x14)\n",
    "        \n",
    "        if i == 4:  # Draw the central black square\n",
    "           \n",
    "            # Create a filled square\n",
    "            plt.gca().add_patch(\n",
    "                Rectangle(\n",
    "                    (x_new, y_new),  \n",
    "                    size,  \n",
    "                    -size,  \n",
    "                    facecolor='black'  \n",
    "                )\n",
    "            )\n",
    "        else:\n",
    "         \n",
    "            # Recursive call with updated coordinates\n",
    "            sierpinskiCarpet(x_new, y_new, size)"
   ]
  },
  {
   "cell_type": "code",
   "execution_count": 11,
   "id": "cdab5ac3-f470-493e-975e-5152794c6eb1",
   "metadata": {
    "extensions": {
     "jupyter_dashboards": {
      "activeView": "grid_default",
      "views": {
       "grid_default": {
        "col": null,
        "height": 2,
        "hidden": true,
        "row": null,
        "width": 2
       }
      }
     }
    }
   },
   "outputs": [],
   "source": [
    "# Function to set up and draw the Sierpinski Carpet\n",
    "def draw_carpet():\n",
    "    global limit  \n",
    "\n",
    "    plt.figure(figsize=(6, 6), facecolor='white')  \n",
    "\n",
    "    # Draw the Sierpinski Carpet with the specified depth\n",
    "    for _ in range(depth):\n",
    "        sierpinskiCarpet(0, dim, dim)\n",
    "        limit /= 3  \n",
    "    \n",
    "    plt.axis('equal')  \n",
    "    plt.axis('off')  \n",
    "    plt.show()  "
   ]
  },
  {
   "cell_type": "code",
   "execution_count": 12,
   "id": "fb434eec-d028-4e96-b7bd-01af5043e21a",
   "metadata": {
    "extensions": {
     "jupyter_dashboards": {
      "activeView": "grid_default",
      "views": {
       "grid_default": {
        "col": null,
        "height": 2,
        "hidden": true,
        "row": null,
        "width": 2
       }
      }
     }
    }
   },
   "outputs": [
    {
     "data": {
      "image/png": "[encoded data removed]",
      "text/plain": [
       "<Figure size 432x432 with 1 Axes>"
      ]
     },
     "metadata": {},
     "output_type": "display_data"
    }
   ],
   "source": [
    "draw_carpet()"
   ]
  },
  {
   "cell_type": "markdown",
   "id": "9f0ee08d-681c-48e1-aae5-6e7dff874e13",
   "metadata": {},
   "source": [
    "As seen above the sierpenski carpet has not been plotted correctly due to the issues described above "
   ]
  }
 ],
 "metadata": {
  "extensions": {
   "jupyter_dashboards": {
    "activeView": "grid_default",
    "version": 1,
    "views": {
     "grid_default": {
      "cellMargin": 2,
      "defaultCellHeight": 60,
      "maxColumns": 12,
      "name": "grid",
      "type": "grid"
     }
    }
   }
  },
  "kernelspec": {
   "display_name": "Python 3",
   "language": "python",
   "name": "python3"
  },
  "language_info": {
   "codemirror_mode": {
    "name": "ipython",
    "version": 3
   },
   "file_extension": ".py",
   "mimetype": "text/x-python",
   "name": "python",
   "nbconvert_exporter": "python",
   "pygments_lexer": "ipython3",
   "version": "3.8.2"
  }
 },
 "nbformat": 4,
 "nbformat_minor": 5
}
