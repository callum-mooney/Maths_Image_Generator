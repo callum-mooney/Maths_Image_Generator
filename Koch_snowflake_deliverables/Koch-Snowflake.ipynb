{
 "cells": [
  {
   "cell_type": "markdown",
   "id": "79485045",
   "metadata": {},
   "source": [
    "Import packages and libraries"
   ]
  },
  {
   "cell_type": "code",
   "execution_count": 1,
   "id": "230cff38",
   "metadata": {},
   "outputs": [
    {
     "ename": "ModuleNotFoundError",
     "evalue": "No module named 'pynq'",
     "output_type": "error",
     "traceback": [
      "\u001b[1;31m---------------------------------------------------------------------------\u001b[0m",
      "\u001b[1;31mModuleNotFoundError\u001b[0m                       Traceback (most recent call last)",
      "Cell \u001b[1;32mIn[1], line 2\u001b[0m\n\u001b[0;32m      1\u001b[0m \u001b[38;5;28;01mimport\u001b[39;00m \u001b[38;5;21;01mtime\u001b[39;00m\n\u001b[1;32m----> 2\u001b[0m \u001b[38;5;28;01mimport\u001b[39;00m \u001b[38;5;21;01mpynq\u001b[39;00m \u001b[38;5;28;01mas\u001b[39;00m \u001b[38;5;21;01mOverlay\u001b[39;00m\n\u001b[0;32m      3\u001b[0m \u001b[38;5;28;01mimport\u001b[39;00m \u001b[38;5;21;01mmatplotlib\u001b[39;00m\u001b[38;5;21;01m.\u001b[39;00m\u001b[38;5;21;01mpyplot\u001b[39;00m \u001b[38;5;28;01mas\u001b[39;00m \u001b[38;5;21;01mplt\u001b[39;00m\n\u001b[0;32m      4\u001b[0m \u001b[38;5;28;01mimport\u001b[39;00m \u001b[38;5;21;01mmath\u001b[39;00m\n",
      "\u001b[1;31mModuleNotFoundError\u001b[0m: No module named 'pynq'"
     ]
    }
   ],
   "source": [
    "import time\n",
    "from pynq import Overlay\n",
    "import matplotlib.pyplot as plt\n",
    "import math\n",
    "\n",
    "start_time = time.time()\n",
    "\n",
    "#import IP\n",
    "ol = Overlay(\"design_1_wrapper.bit\")\n",
    "\n",
    "#start the timer\n",
    "start_time = time.time()"
   ]
  },
  {
   "cell_type": "markdown",
   "id": "5fb7361a",
   "metadata": {},
   "source": [
    "ol?"
   ]
  },
  {
   "cell_type": "markdown",
   "id": "9f3ea501",
   "metadata": {},
   "source": [
    "Running the same script as Koch-Snowflake-CPU except this time all calculations are done using custom IP core."
   ]
  },
  {
   "cell_type": "code",
   "execution_count": null,
   "id": "dacb7d25",
   "metadata": {},
   "outputs": [],
   "source": [
    "koch_ip = ol.koch_snowflake_0\n",
    "\n",
    "# Function to draw a Koch curve with a given order\n",
    "def koch_lines(x, y, a, angle, order):\n",
    "    if order == 0:\n",
    "        # Draw a straight line\n",
    "        # Calculate values on IP core\n",
    "\n",
    "        # x\n",
    "        koch_ip.write(0x04, int(x))\n",
    "        koch_ip.write(0x10, int(a))\n",
    "        koch_ip.write(0x08, int(angle))\n",
    "\n",
    "        x_end = koch_ip.read(0x14)  # read x_end\n",
    "\n",
    "        # y\n",
    "        koch_ip.write(0x00, int(y))\n",
    "        koch_ip.write(0x10, int(a))\n",
    "        koch_ip.write(0x08, int(angle))\n",
    "\n",
    "        y_end = koch_ip.read(0x1C)  # read y_end\n",
    "\n",
    "        # cpu math calculation\n",
    "        #x_end = x + a * math.cos(math.radians(angle))\n",
    "        #y_end = y + a * math.sin(math.radians(angle))\n",
    "\n",
    "        plt.plot([x, x_end], [y, y_end], color='blue')\n",
    "\n",
    "    else:\n",
    "        # Recursive calls for each segment of the Koch curve\n",
    "        #a /= 3  # Divide segment length by 3 for each iteration\n",
    "        \n",
    "        #for angle_offset in [0, 60, -60, 0]:\n",
    "        for angle_offset in [0, 1.0472, -1.0472]:\n",
    "            koch_lines(x, y, a, angle + angle_offset, order - 1)\n",
    "            #x = x + a * math.cos(math.radians(angle + angle_offset))\n",
    "            #y = y + a * math.sin(math.radians(angle + angle_offset))\n",
    "\n",
    "            #x\n",
    "            koch_ip.write(0x04, int(x))\n",
    "            koch_ip.write(0x10, int(a)) #a/3\n",
    "            koch_ip.write(0x08, int(angle))\n",
    "            koch_ip.write(0x0C, int(angle_offset))\n",
    "\n",
    "            x = koch_ip.read(0x18)\n",
    "\n",
    "            #y\n",
    "            koch_ip.write(0x00, int(y))\n",
    "            koch_ip.write(0x10, int(a)) #a/3\n",
    "            koch_ip.write(0x08, int(angle))\n",
    "            koch_ip.write(0x0C, int(angle_offset))\n",
    "\n",
    "            y = koch_ip.read(0x20)\n",
    "\n",
    "\n",
    "\n",
    "def koch_snowflake(x, y, a, order):\n",
    "    # Plot three Koch curves to form a triangle\n",
    "    #for angle in [0, -120, 120]:\n",
    "    for angle in [0, -2.0944, 2.0944]:\n",
    "        #print(angle)\n",
    "        koch_lines(x, y, a, angle, order)\n",
    "        #x = x + a * math.cos(math.radians(angle))\n",
    "        #x\n",
    "        koch_ip.write(0x04, int(x))\n",
    "        koch_ip.write(0x10, int(a)) #a/3\n",
    "        koch_ip.write(0x08, int(angle))\n",
    "\n",
    "        x = koch_ip.read(0x18)\n",
    "        #y = y + a * math.sin(math.radians(angle))\n",
    "        #y\n",
    "        koch_ip.write(0x00, int(y))\n",
    "        koch_ip.write(0x10, int(a)) #a/3\n",
    "        koch_ip.write(0x08, int(angle))\n",
    "\n",
    "        y = koch_ip.read(0x20)\n"
   ]
  },
  {
   "cell_type": "markdown",
   "id": "88b0615c",
   "metadata": {},
   "source": [
    "Print the image to the screen and track the time taken"
   ]
  },
  {
   "cell_type": "code",
   "execution_count": null,
   "id": "5362d039",
   "metadata": {},
   "outputs": [],
   "source": [
    "# Create a figure\n",
    "fig = plt.figure(\"Koch Snowflake\")\n",
    "\n",
    "# Plot the Koch snowflake\n",
    "n = 1  # order of the Koch snowflake    -- anything above 7/8 you begin to run out of memory\n",
    "koch_snowflake(0, 0, 1, n)  # Adjust the parameters as needed\n",
    "\n",
    "# time to execute\n",
    "end_time = time.time()\n",
    "print(\"Time taken: \", end_time - start_time, \"seconds\")\n",
    "\n",
    "# Show the plot\n",
    "plt.axis('equal')\n",
    "plt.axis('off')\n",
    "plt.show()\n"
   ]
  }
 ],
 "metadata": {
  "kernelspec": {
   "display_name": "Python 3 (ipykernel)",
   "language": "python",
   "name": "python3"
  },
  "language_info": {
   "codemirror_mode": {
    "name": "ipython",
    "version": 3
   },
   "file_extension": ".py",
   "mimetype": "text/x-python",
   "name": "python",
   "nbconvert_exporter": "python",
   "pygments_lexer": "ipython3",
   "version": "3.12.2"
  }
 },
 "nbformat": 4,
 "nbformat_minor": 5
}
