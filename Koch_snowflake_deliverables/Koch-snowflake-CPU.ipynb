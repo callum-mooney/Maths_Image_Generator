{
 "cells": [
  {
   "cell_type": "markdown",
   "id": "06af7ab6",
   "metadata": {},
   "source": [
    "# Koch Snowflake\n",
    "\n",
    "References:\n",
    "    - https://python-with-science.readthedocs.io/en/latest/koch_fractal/koch_fractal.html\n",
    "    - https://isquared.digital/visualizations/2020-06-15-koch-curve/\n",
    "    - https://github.com/IlievskiV/Amusive-Blogging-N-Coding/blob/master/Visualizations/snowflake.ipynb"
   ]
  },
  {
   "cell_type": "markdown",
   "id": "e87665d5",
   "metadata": {},
   "source": [
    "Import libraries"
   ]
  },
  {
   "cell_type": "code",
   "execution_count": 7,
   "id": "081e049b",
   "metadata": {},
   "outputs": [],
   "source": [
    "import matplotlib.pyplot as plt\n",
    "import math\n",
    "import time"
   ]
  },
  {
   "cell_type": "markdown",
   "id": "caedee8a",
   "metadata": {},
   "source": [
    "Define functions"
   ]
  },
  {
   "cell_type": "code",
   "execution_count": 8,
   "id": "4fb81dfd",
   "metadata": {
    "scrolled": true
   },
   "outputs": [],
   "source": [
    "# Function to draw a Koch curve with a given order\n",
    "def koch_lines(x, y, a, angle, order):\n",
    "    if order == 0:\n",
    "        # Draw a straight line\n",
    "        #print(angle)\n",
    "        #print(x, \" \", a)\n",
    "        x_end = x + a * math.cos(angle)\n",
    "        y_end = y + a * math.sin(angle)\n",
    "        #print(\"\\n\",angle, \" degrees\")\n",
    "        #print(x_end, \" \", y_end)\n",
    "        plt.plot([x, x_end], [y, y_end], color='blue')\n",
    "\n",
    "    else:\n",
    "        # Recursive calls for each segment of the Koch curve\n",
    "        a /= 3  # Divide segment length by 3 for each iteration\n",
    "        for angle_offset in [0, 1.0472, -1.0472, 0]:\n",
    "            koch_lines(x, y, a, angle + angle_offset, order - 1)\n",
    "            x = x + a * math.cos((angle + angle_offset))\n",
    "            y = y + a * math.sin((angle + angle_offset))\n",
    "\n",
    "\n",
    "def koch_snowflake(x, y, a, order):\n",
    "    # Plot three Koch curves to form a triangle\n",
    "    for angle in [0, -2.0944, 2.0944]:\n",
    "        #print(angle)\n",
    "        koch_lines(x, y, a, angle, order)\n",
    "        x = x + a * math.cos(angle)\n",
    "        y = y + a * math.sin(angle)\n",
    "        print(angle, \"Radians\\n\", x, \" \", y)\n"
   ]
  },
  {
   "cell_type": "markdown",
   "id": "151160c6",
   "metadata": {},
   "source": [
    "Print the image to screen"
   ]
  },
  {
   "cell_type": "code",
   "execution_count": 9,
   "id": "0d098c27",
   "metadata": {
    "scrolled": true
   },
   "outputs": [
    {
     "name": "stdout",
     "output_type": "stream",
     "text": [
      "0 \n",
      " 100.0   0.0\n",
      "-2.0944 \n",
      " 49.99957585540864   -86.602295497065\n",
      "2.0944 \n",
      " -0.0008482891827270578   0.0\n"
     ]
    },
    {
     "data": {
      "image/png": "[encoded data removed]",
      "text/plain": [
       "<Figure size 432x288 with 1 Axes>"
      ]
     },
     "metadata": {
      "needs_background": "light"
     },
     "output_type": "display_data"
    },
    {
     "name": "stdout",
     "output_type": "stream",
     "text": [
      "Execution time: 1.0956854820251465 seconds\n"
     ]
    }
   ],
   "source": [
    "#start the timer\n",
    "start_time = time.time()\n",
    "\n",
    "# Create a figure\n",
    "fig = plt.figure(\"Koch Snowflake\")\n",
    "\n",
    "# Plot the Koch snowflake\n",
    "n = 4  #number of iterations to repeat - values over 5 become increasingly slow\n",
    "koch_snowflake(0, 0, 100, n)  # Adjust the parameters as needed\n",
    "\n",
    "# Show the plot\n",
    "plt.axis('equal')\n",
    "plt.axis('off')\n",
    "plt.show()\n",
    "\n",
    "end_time = time.time()\n",
    "execution_time = end_time - start_time\n",
    "print(\"Execution time:\", execution_time, \"seconds\")\n",
    "#plt.savefig('Koch_snowflake.png', dpi=300, bbox_inches='tight')"
   ]
  },
  {
   "cell_type": "code",
   "execution_count": null,
   "id": "e0a57665",
   "metadata": {},
   "outputs": [],
   "source": []
  }
 ],
 "metadata": {
  "kernelspec": {
   "display_name": "Python 3 (ipykernel)",
   "language": "python",
   "name": "python3"
  },
  "language_info": {
   "codemirror_mode": {
    "name": "ipython",
    "version": 3
   },
   "file_extension": ".py",
   "mimetype": "text/x-python",
   "name": "python",
   "nbconvert_exporter": "python",
   "pygments_lexer": "ipython3",
   "version": "3.10.5"
  }
 },
 "nbformat": 4,
 "nbformat_minor": 5
}
